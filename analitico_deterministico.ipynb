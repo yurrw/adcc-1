{
  "nbformat": 4,
  "nbformat_minor": 0,
  "metadata": {
    "colab": {
      "provenance": []
    },
    "kernelspec": {
      "name": "python3",
      "display_name": "Python 3"
    },
    "language_info": {
      "name": "python"
    }
  },
  "cells": [
    {
      "cell_type": "code",
      "execution_count": 19,
      "metadata": {
        "colab": {
          "base_uri": "https://localhost:8080/"
        },
        "id": "JbFLp1VrCl0-",
        "outputId": "f9a68075-3256-47c6-8f3c-a496186cb684"
      },
      "outputs": [
        {
          "output_type": "stream",
          "name": "stdout",
          "text": [
            "caso 1: 1.0\n",
            "caso 2: 1.0\n",
            "caso 3: 0.906298162927098\n",
            "caso 4: 0.8238658563681899\n"
          ]
        }
      ],
      "source": [
        "from scipy.optimize import root\n",
        "import numpy as np\n",
        "\n",
        "# Define the function for root finding\n",
        "def equation_to_solve(x, _lambda, T):\n",
        "    return x - np.exp(-_lambda*T*(1 - x))\n",
        "\n",
        "# Initial guess\n",
        "x0 = 0.1\n",
        "\n",
        "result = root(equation_to_solve, x0, args=(1, 1/2.))\n",
        "\n",
        "# Extract the solution\n",
        "solution = result.x[0]\n",
        "print(f\"caso 1: {solution}\")\n",
        "\n",
        "result = root(equation_to_solve, x0, args=(2, 1/4.))\n",
        "solution = result.x[0]\n",
        "print(f\"caso 2: {solution}\")\n",
        "\n",
        "\n",
        "result = root(equation_to_solve, x0, args=(1.05, 1.))\n",
        "solution = result.x[0]\n",
        "print(f\"caso 3: {solution}\")\n",
        "\n",
        "\n",
        "result = root(equation_to_solve, x0, args=(1.10, 1.))\n",
        "solution = result.x[0]\n",
        "print(f\"caso 4: {solution}\")\n",
        "\n"
      ]
    },
    {
      "cell_type": "code",
      "source": [
        "from scipy.optimize import root\n",
        "import numpy as np\n",
        "\n",
        "# Define the function for root finding\n",
        "def equation_to_solve(x, a, b):\n",
        "    return x - np.exp(-a*b*(1 - x))\n",
        "\n",
        "# Initial guesses for the two roots\n",
        "x0_1 = 0.0  # Initial guess for the first root\n",
        "x0_2 = 1.0  # Initial guess for the second root\n",
        "\n",
        "# Assign real values to 'a' and 'b'\n",
        "a_value = 1.10  # Replace with your desired real value for 'a'\n",
        "b_value = 1  # Replace with your desired real value for 'b'\n",
        "\n",
        "# Find the first root\n",
        "result_1 = root(equation_to_solve, x0_1, args=(a_value, b_value))\n",
        "root_1 = result_1.x[0]\n",
        "\n",
        "# Find the second root\n",
        "result_2 = root(equation_to_solve, x0_2, args=(a_value, b_value))\n",
        "root_2 = result_2.x[0]\n",
        "\n",
        "print(\"First Root:\", root_1)\n",
        "print(\"Second Root:\", root_2)\n"
      ],
      "metadata": {
        "colab": {
          "base_uri": "https://localhost:8080/"
        },
        "id": "Ry5WvwMQFenj",
        "outputId": "5c0de27e-4fa0-493d-b24f-47dfe897a2ba"
      },
      "execution_count": 17,
      "outputs": [
        {
          "output_type": "stream",
          "name": "stdout",
          "text": [
            "First Root: 0.8238658563681899\n",
            "Second Root: 1.0\n"
          ]
        }
      ]
    }
  ]
}